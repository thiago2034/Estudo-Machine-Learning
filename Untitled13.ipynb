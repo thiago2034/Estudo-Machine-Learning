{
  "nbformat": 4,
  "nbformat_minor": 0,
  "metadata": {
    "colab": {
      "name": "Untitled13.ipynb",
      "provenance": [],
      "authorship_tag": "ABX9TyPERQRLVpyLlYq/LC24bdMh",
      "include_colab_link": true
    },
    "kernelspec": {
      "name": "python3",
      "display_name": "Python 3"
    },
    "language_info": {
      "name": "python"
    }
  },
  "cells": [
    {
      "cell_type": "markdown",
      "metadata": {
        "id": "view-in-github",
        "colab_type": "text"
      },
      "source": [
        "<a href=\"https://colab.research.google.com/github/thiago2034/Estudo-Machine-Learning/blob/master/Untitled13.ipynb\" target=\"_parent\"><img src=\"https://colab.research.google.com/assets/colab-badge.svg\" alt=\"Open In Colab\"/></a>"
      ]
    },
    {
      "cell_type": "code",
      "metadata": {
        "id": "GowmtctVIZZG"
      },
      "source": [
        "import pandas as pdb\n",
        "import seaborn as snsa"
      ],
      "execution_count": 29,
      "outputs": []
    },
    {
      "cell_type": "code",
      "metadata": {
        "id": "eXq7dAvTIij0"
      },
      "source": [
        "df_corona = pd.read_csv('/content/corona_age_and_gender.csv')"
      ],
      "execution_count": 3,
      "outputs": []
    },
    {
      "cell_type": "code",
      "metadata": {
        "colab": {
          "base_uri": "https://localhost:8080/",
          "height": 419
        },
        "id": "_XeJ-PmHIo8M",
        "outputId": "6f45c802-3ce4-442e-f36f-ac408429de5f"
      },
      "source": [
        "df_corona"
      ],
      "execution_count": 4,
      "outputs": [
        {
          "output_type": "execute_result",
          "data": {
            "text/html": [
              "<div>\n",
              "<style scoped>\n",
              "    .dataframe tbody tr th:only-of-type {\n",
              "        vertical-align: middle;\n",
              "    }\n",
              "\n",
              "    .dataframe tbody tr th {\n",
              "        vertical-align: top;\n",
              "    }\n",
              "\n",
              "    .dataframe thead th {\n",
              "        text-align: right;\n",
              "    }\n",
              "</style>\n",
              "<table border=\"1\" class=\"dataframe\">\n",
              "  <thead>\n",
              "    <tr style=\"text-align: right;\">\n",
              "      <th></th>\n",
              "      <th>first_week_day</th>\n",
              "      <th>last_week_day</th>\n",
              "      <th>age_group</th>\n",
              "      <th>gender</th>\n",
              "      <th>weekly_tests_num</th>\n",
              "      <th>weekly_cases</th>\n",
              "      <th>weekly_deceased</th>\n",
              "    </tr>\n",
              "  </thead>\n",
              "  <tbody>\n",
              "    <tr>\n",
              "      <th>0</th>\n",
              "      <td>15/03/2020</td>\n",
              "      <td>21/03/2020</td>\n",
              "      <td>0-19</td>\n",
              "      <td>Men</td>\n",
              "      <td>1115</td>\n",
              "      <td>44</td>\n",
              "      <td>0</td>\n",
              "    </tr>\n",
              "    <tr>\n",
              "      <th>1</th>\n",
              "      <td>15/03/2020</td>\n",
              "      <td>21/03/2020</td>\n",
              "      <td>0-19</td>\n",
              "      <td>Not Binary</td>\n",
              "      <td>0</td>\n",
              "      <td>0</td>\n",
              "      <td>0</td>\n",
              "    </tr>\n",
              "    <tr>\n",
              "      <th>2</th>\n",
              "      <td>15/03/2020</td>\n",
              "      <td>21/03/2020</td>\n",
              "      <td>0-19</td>\n",
              "      <td>Women</td>\n",
              "      <td>1065</td>\n",
              "      <td>39</td>\n",
              "      <td>0</td>\n",
              "    </tr>\n",
              "    <tr>\n",
              "      <th>3</th>\n",
              "      <td>15/03/2020</td>\n",
              "      <td>21/03/2020</td>\n",
              "      <td>20-24</td>\n",
              "      <td>Men</td>\n",
              "      <td>613</td>\n",
              "      <td>92</td>\n",
              "      <td>0</td>\n",
              "    </tr>\n",
              "    <tr>\n",
              "      <th>4</th>\n",
              "      <td>15/03/2020</td>\n",
              "      <td>21/03/2020</td>\n",
              "      <td>20-24</td>\n",
              "      <td>Not Binary</td>\n",
              "      <td>0</td>\n",
              "      <td>0</td>\n",
              "      <td>0</td>\n",
              "    </tr>\n",
              "    <tr>\n",
              "      <th>...</th>\n",
              "      <td>...</td>\n",
              "      <td>...</td>\n",
              "      <td>...</td>\n",
              "      <td>...</td>\n",
              "      <td>...</td>\n",
              "      <td>...</td>\n",
              "      <td>...</td>\n",
              "    </tr>\n",
              "    <tr>\n",
              "      <th>3754</th>\n",
              "      <td>24/10/2021</td>\n",
              "      <td>30/10/2021</td>\n",
              "      <td>80+</td>\n",
              "      <td>Not Binary</td>\n",
              "      <td>203</td>\n",
              "      <td>0</td>\n",
              "      <td>0</td>\n",
              "    </tr>\n",
              "    <tr>\n",
              "      <th>3755</th>\n",
              "      <td>24/10/2021</td>\n",
              "      <td>30/10/2021</td>\n",
              "      <td>80+</td>\n",
              "      <td>Women</td>\n",
              "      <td>8763</td>\n",
              "      <td>22</td>\n",
              "      <td>0</td>\n",
              "    </tr>\n",
              "    <tr>\n",
              "      <th>3756</th>\n",
              "      <td>24/10/2021</td>\n",
              "      <td>30/10/2021</td>\n",
              "      <td>NaN</td>\n",
              "      <td>Men</td>\n",
              "      <td>2186</td>\n",
              "      <td>23</td>\n",
              "      <td>0</td>\n",
              "    </tr>\n",
              "    <tr>\n",
              "      <th>3757</th>\n",
              "      <td>24/10/2021</td>\n",
              "      <td>30/10/2021</td>\n",
              "      <td>NaN</td>\n",
              "      <td>Not Binary</td>\n",
              "      <td>1147</td>\n",
              "      <td>0</td>\n",
              "      <td>0</td>\n",
              "    </tr>\n",
              "    <tr>\n",
              "      <th>3758</th>\n",
              "      <td>24/10/2021</td>\n",
              "      <td>30/10/2021</td>\n",
              "      <td>NaN</td>\n",
              "      <td>Women</td>\n",
              "      <td>2595</td>\n",
              "      <td>15</td>\n",
              "      <td>0</td>\n",
              "    </tr>\n",
              "  </tbody>\n",
              "</table>\n",
              "<p>3759 rows × 7 columns</p>\n",
              "</div>"
            ],
            "text/plain": [
              "     first_week_day last_week_day  ... weekly_cases weekly_deceased\n",
              "0        15/03/2020    21/03/2020  ...           44               0\n",
              "1        15/03/2020    21/03/2020  ...            0               0\n",
              "2        15/03/2020    21/03/2020  ...           39               0\n",
              "3        15/03/2020    21/03/2020  ...           92               0\n",
              "4        15/03/2020    21/03/2020  ...            0               0\n",
              "...             ...           ...  ...          ...             ...\n",
              "3754     24/10/2021    30/10/2021  ...            0               0\n",
              "3755     24/10/2021    30/10/2021  ...           22               0\n",
              "3756     24/10/2021    30/10/2021  ...           23               0\n",
              "3757     24/10/2021    30/10/2021  ...            0               0\n",
              "3758     24/10/2021    30/10/2021  ...           15               0\n",
              "\n",
              "[3759 rows x 7 columns]"
            ]
          },
          "metadata": {},
          "execution_count": 4
        }
      ]
    },
    {
      "cell_type": "markdown",
      "metadata": {
        "id": "aNIdrW97I2Gq"
      },
      "source": [
        "# Analisando essa base\n",
        "### Possuimos dados sobre covid da data de 15/03/2020 a 30/10/2021\n",
        "### Nessa base possuimos informações de casos de Covid, possuimos o genero do paciente, o grupo de idade no qual ele pertence, casos de covid por semana, teste de covid na semana, numero de mortes na semana e a data do inicio e fim da semana."
      ]
    },
    {
      "cell_type": "markdown",
      "metadata": {
        "id": "yHjl-CKCMtdx"
      },
      "source": [
        "## O primeiro estudo que fiz foi ver se a idade das pessoas tem um impacto encima das mortes por semanas, para isso realizei um group_by para agrupar os grupos de idades e somar as mortes semanais para esses grupos."
      ]
    },
    {
      "cell_type": "code",
      "metadata": {
        "colab": {
          "base_uri": "https://localhost:8080/",
          "height": 514
        },
        "id": "wLPx0ZKTLdkR",
        "outputId": "96284a1e-e434-40e2-cc32-c9111d0567bd"
      },
      "source": [
        "df_corona[['age_group', 'weekly_deceased']].groupby(by='age_group').sum()"
      ],
      "execution_count": 14,
      "outputs": [
        {
          "output_type": "execute_result",
          "data": {
            "text/html": [
              "<div>\n",
              "<style scoped>\n",
              "    .dataframe tbody tr th:only-of-type {\n",
              "        vertical-align: middle;\n",
              "    }\n",
              "\n",
              "    .dataframe tbody tr th {\n",
              "        vertical-align: top;\n",
              "    }\n",
              "\n",
              "    .dataframe thead th {\n",
              "        text-align: right;\n",
              "    }\n",
              "</style>\n",
              "<table border=\"1\" class=\"dataframe\">\n",
              "  <thead>\n",
              "    <tr style=\"text-align: right;\">\n",
              "      <th></th>\n",
              "      <th>weekly_deceased</th>\n",
              "    </tr>\n",
              "    <tr>\n",
              "      <th>age_group</th>\n",
              "      <th></th>\n",
              "    </tr>\n",
              "  </thead>\n",
              "  <tbody>\n",
              "    <tr>\n",
              "      <th>0-19</th>\n",
              "      <td>0</td>\n",
              "    </tr>\n",
              "    <tr>\n",
              "      <th>20-24</th>\n",
              "      <td>0</td>\n",
              "    </tr>\n",
              "    <tr>\n",
              "      <th>25-29</th>\n",
              "      <td>0</td>\n",
              "    </tr>\n",
              "    <tr>\n",
              "      <th>30-34</th>\n",
              "      <td>0</td>\n",
              "    </tr>\n",
              "    <tr>\n",
              "      <th>35-39</th>\n",
              "      <td>0</td>\n",
              "    </tr>\n",
              "    <tr>\n",
              "      <th>40-44</th>\n",
              "      <td>0</td>\n",
              "    </tr>\n",
              "    <tr>\n",
              "      <th>45-49</th>\n",
              "      <td>0</td>\n",
              "    </tr>\n",
              "    <tr>\n",
              "      <th>50-54</th>\n",
              "      <td>0</td>\n",
              "    </tr>\n",
              "    <tr>\n",
              "      <th>55-59</th>\n",
              "      <td>0</td>\n",
              "    </tr>\n",
              "    <tr>\n",
              "      <th>60-64</th>\n",
              "      <td>69</td>\n",
              "    </tr>\n",
              "    <tr>\n",
              "      <th>65-69</th>\n",
              "      <td>153</td>\n",
              "    </tr>\n",
              "    <tr>\n",
              "      <th>70-74</th>\n",
              "      <td>395</td>\n",
              "    </tr>\n",
              "    <tr>\n",
              "      <th>75-79</th>\n",
              "      <td>382</td>\n",
              "    </tr>\n",
              "    <tr>\n",
              "      <th>80+</th>\n",
              "      <td>3657</td>\n",
              "    </tr>\n",
              "  </tbody>\n",
              "</table>\n",
              "</div>"
            ],
            "text/plain": [
              "           weekly_deceased\n",
              "age_group                 \n",
              "0-19                     0\n",
              "20-24                    0\n",
              "25-29                    0\n",
              "30-34                    0\n",
              "35-39                    0\n",
              "40-44                    0\n",
              "45-49                    0\n",
              "50-54                    0\n",
              "55-59                    0\n",
              "60-64                   69\n",
              "65-69                  153\n",
              "70-74                  395\n",
              "75-79                  382\n",
              "80+                   3657"
            ]
          },
          "metadata": {},
          "execution_count": 14
        }
      ]
    },
    {
      "cell_type": "markdown",
      "metadata": {
        "id": "0TZW1uGYNwjf"
      },
      "source": [
        "### Analisando o resultado vemos que apartir dos 60 anos começamos a ter mortes em casos de covid nessa base, logo, quanto mais velho for a pessoa maior as chances de morte.\n",
        "### Vimos que a idade impacta nesse quesito, mas e o genero? para fazer esse estudo adotarei a mesma abordagem, utilizando um group by"
      ]
    },
    {
      "cell_type": "code",
      "metadata": {
        "colab": {
          "base_uri": "https://localhost:8080/",
          "height": 173
        },
        "id": "2AdJ4GgSL_DV",
        "outputId": "af851811-8f6d-4ee1-b93e-098253c8a9e1"
      },
      "source": [
        "df_corona[['gender', 'weekly_deceased' ]].groupby(by='gender').sum()"
      ],
      "execution_count": 26,
      "outputs": [
        {
          "output_type": "execute_result",
          "data": {
            "text/html": [
              "<div>\n",
              "<style scoped>\n",
              "    .dataframe tbody tr th:only-of-type {\n",
              "        vertical-align: middle;\n",
              "    }\n",
              "\n",
              "    .dataframe tbody tr th {\n",
              "        vertical-align: top;\n",
              "    }\n",
              "\n",
              "    .dataframe thead th {\n",
              "        text-align: right;\n",
              "    }\n",
              "</style>\n",
              "<table border=\"1\" class=\"dataframe\">\n",
              "  <thead>\n",
              "    <tr style=\"text-align: right;\">\n",
              "      <th></th>\n",
              "      <th>weekly_deceased</th>\n",
              "    </tr>\n",
              "    <tr>\n",
              "      <th>gender</th>\n",
              "      <th></th>\n",
              "    </tr>\n",
              "  </thead>\n",
              "  <tbody>\n",
              "    <tr>\n",
              "      <th>Men</th>\n",
              "      <td>2605</td>\n",
              "    </tr>\n",
              "    <tr>\n",
              "      <th>Not Binary</th>\n",
              "      <td>0</td>\n",
              "    </tr>\n",
              "    <tr>\n",
              "      <th>Women</th>\n",
              "      <td>2051</td>\n",
              "    </tr>\n",
              "  </tbody>\n",
              "</table>\n",
              "</div>"
            ],
            "text/plain": [
              "            weekly_deceased\n",
              "gender                     \n",
              "Men                    2605\n",
              "Not Binary                0\n",
              "Women                  2051"
            ]
          },
          "metadata": {},
          "execution_count": 26
        }
      ]
    },
    {
      "cell_type": "markdown",
      "metadata": {
        "id": "61vIS65jRlXP"
      },
      "source": [
        "### Vemos que os homems morreram mais que as mulheres. \n",
        "### Mas para termos confiança nesses dados, vamos analisar a quantidade de casos de covid semanal por genero."
      ]
    },
    {
      "cell_type": "code",
      "metadata": {
        "colab": {
          "base_uri": "https://localhost:8080/",
          "height": 173
        },
        "id": "UT_V2YUbOgov",
        "outputId": "23a66325-8b02-4178-d93b-8d2fc10a6e0d"
      },
      "source": [
        "df_corona[['gender', 'weekly_cases' ]].groupby(by='gender').sum()"
      ],
      "execution_count": 28,
      "outputs": [
        {
          "output_type": "execute_result",
          "data": {
            "text/html": [
              "<div>\n",
              "<style scoped>\n",
              "    .dataframe tbody tr th:only-of-type {\n",
              "        vertical-align: middle;\n",
              "    }\n",
              "\n",
              "    .dataframe tbody tr th {\n",
              "        vertical-align: top;\n",
              "    }\n",
              "\n",
              "    .dataframe thead th {\n",
              "        text-align: right;\n",
              "    }\n",
              "</style>\n",
              "<table border=\"1\" class=\"dataframe\">\n",
              "  <thead>\n",
              "    <tr style=\"text-align: right;\">\n",
              "      <th></th>\n",
              "      <th>weekly_cases</th>\n",
              "    </tr>\n",
              "    <tr>\n",
              "      <th>gender</th>\n",
              "      <th></th>\n",
              "    </tr>\n",
              "  </thead>\n",
              "  <tbody>\n",
              "    <tr>\n",
              "      <th>Men</th>\n",
              "      <td>623895</td>\n",
              "    </tr>\n",
              "    <tr>\n",
              "      <th>Not Binary</th>\n",
              "      <td>7132</td>\n",
              "    </tr>\n",
              "    <tr>\n",
              "      <th>Women</th>\n",
              "      <td>694435</td>\n",
              "    </tr>\n",
              "  </tbody>\n",
              "</table>\n",
              "</div>"
            ],
            "text/plain": [
              "            weekly_cases\n",
              "gender                  \n",
              "Men               623895\n",
              "Not Binary          7132\n",
              "Women             694435"
            ]
          },
          "metadata": {},
          "execution_count": 28
        }
      ]
    },
    {
      "cell_type": "markdown",
      "metadata": {
        "id": "LXQIJSC8R-WK"
      },
      "source": [
        "### Ao analisar vemos que tivemos mais casos de mulheres do que de homens, porém temos mais mortes de homens do que de mulheres. Nessa base oque podemos concluir é que por algum motivo os homens tendem a vir mais a obito do que as mulheres, porém para termos certeza dessa afirmação, precisariamos saber a idade dos homens e mulheres na qual foram feito os dados, logo não devemos levar isso como verdade absoluta. "
      ]
    },
    {
      "cell_type": "markdown",
      "metadata": {
        "id": "JyQQqfEPR7nF"
      },
      "source": [
        "### Agora vamos analisar os casos de covid por ano, para fazer isso primeiramente, irei criar duas novas colunas em nosso data frame, são elas month e year"
      ]
    },
    {
      "cell_type": "code",
      "metadata": {
        "id": "OHyp2Hd6Tqh6"
      },
      "source": [
        "df_corona['month'] = [row['first_week_day'][3:5] for index, row in df_corona.iterrows()]\n",
        "df_corona['year'] = [row['first_week_day'][6:] for index, row in df_corona.iterrows()]"
      ],
      "execution_count": 63,
      "outputs": []
    },
    {
      "cell_type": "markdown",
      "metadata": {
        "id": "QU1zpzMWWqR2"
      },
      "source": [
        "###Como mostrado abaixo agora possuimos duas novas colunas"
      ]
    },
    {
      "cell_type": "code",
      "metadata": {
        "colab": {
          "base_uri": "https://localhost:8080/",
          "height": 419
        },
        "id": "hK6wwSYaU5j7",
        "outputId": "6dd70efa-b02a-4335-c76f-b71863cdbf0a"
      },
      "source": [
        "df_corona"
      ],
      "execution_count": 66,
      "outputs": [
        {
          "output_type": "execute_result",
          "data": {
            "text/html": [
              "<div>\n",
              "<style scoped>\n",
              "    .dataframe tbody tr th:only-of-type {\n",
              "        vertical-align: middle;\n",
              "    }\n",
              "\n",
              "    .dataframe tbody tr th {\n",
              "        vertical-align: top;\n",
              "    }\n",
              "\n",
              "    .dataframe thead th {\n",
              "        text-align: right;\n",
              "    }\n",
              "</style>\n",
              "<table border=\"1\" class=\"dataframe\">\n",
              "  <thead>\n",
              "    <tr style=\"text-align: right;\">\n",
              "      <th></th>\n",
              "      <th>first_week_day</th>\n",
              "      <th>last_week_day</th>\n",
              "      <th>age_group</th>\n",
              "      <th>gender</th>\n",
              "      <th>weekly_tests_num</th>\n",
              "      <th>weekly_cases</th>\n",
              "      <th>weekly_deceased</th>\n",
              "      <th>month</th>\n",
              "      <th>year</th>\n",
              "    </tr>\n",
              "  </thead>\n",
              "  <tbody>\n",
              "    <tr>\n",
              "      <th>0</th>\n",
              "      <td>15/03/2020</td>\n",
              "      <td>21/03/2020</td>\n",
              "      <td>0-19</td>\n",
              "      <td>Men</td>\n",
              "      <td>1115</td>\n",
              "      <td>44</td>\n",
              "      <td>0</td>\n",
              "      <td>03</td>\n",
              "      <td>2020</td>\n",
              "    </tr>\n",
              "    <tr>\n",
              "      <th>1</th>\n",
              "      <td>15/03/2020</td>\n",
              "      <td>21/03/2020</td>\n",
              "      <td>0-19</td>\n",
              "      <td>Not Binary</td>\n",
              "      <td>0</td>\n",
              "      <td>0</td>\n",
              "      <td>0</td>\n",
              "      <td>03</td>\n",
              "      <td>2020</td>\n",
              "    </tr>\n",
              "    <tr>\n",
              "      <th>2</th>\n",
              "      <td>15/03/2020</td>\n",
              "      <td>21/03/2020</td>\n",
              "      <td>0-19</td>\n",
              "      <td>Women</td>\n",
              "      <td>1065</td>\n",
              "      <td>39</td>\n",
              "      <td>0</td>\n",
              "      <td>03</td>\n",
              "      <td>2020</td>\n",
              "    </tr>\n",
              "    <tr>\n",
              "      <th>3</th>\n",
              "      <td>15/03/2020</td>\n",
              "      <td>21/03/2020</td>\n",
              "      <td>20-24</td>\n",
              "      <td>Men</td>\n",
              "      <td>613</td>\n",
              "      <td>92</td>\n",
              "      <td>0</td>\n",
              "      <td>03</td>\n",
              "      <td>2020</td>\n",
              "    </tr>\n",
              "    <tr>\n",
              "      <th>4</th>\n",
              "      <td>15/03/2020</td>\n",
              "      <td>21/03/2020</td>\n",
              "      <td>20-24</td>\n",
              "      <td>Not Binary</td>\n",
              "      <td>0</td>\n",
              "      <td>0</td>\n",
              "      <td>0</td>\n",
              "      <td>03</td>\n",
              "      <td>2020</td>\n",
              "    </tr>\n",
              "    <tr>\n",
              "      <th>...</th>\n",
              "      <td>...</td>\n",
              "      <td>...</td>\n",
              "      <td>...</td>\n",
              "      <td>...</td>\n",
              "      <td>...</td>\n",
              "      <td>...</td>\n",
              "      <td>...</td>\n",
              "      <td>...</td>\n",
              "      <td>...</td>\n",
              "    </tr>\n",
              "    <tr>\n",
              "      <th>3754</th>\n",
              "      <td>24/10/2021</td>\n",
              "      <td>30/10/2021</td>\n",
              "      <td>80+</td>\n",
              "      <td>Not Binary</td>\n",
              "      <td>203</td>\n",
              "      <td>0</td>\n",
              "      <td>0</td>\n",
              "      <td>10</td>\n",
              "      <td>2021</td>\n",
              "    </tr>\n",
              "    <tr>\n",
              "      <th>3755</th>\n",
              "      <td>24/10/2021</td>\n",
              "      <td>30/10/2021</td>\n",
              "      <td>80+</td>\n",
              "      <td>Women</td>\n",
              "      <td>8763</td>\n",
              "      <td>22</td>\n",
              "      <td>0</td>\n",
              "      <td>10</td>\n",
              "      <td>2021</td>\n",
              "    </tr>\n",
              "    <tr>\n",
              "      <th>3756</th>\n",
              "      <td>24/10/2021</td>\n",
              "      <td>30/10/2021</td>\n",
              "      <td>NaN</td>\n",
              "      <td>Men</td>\n",
              "      <td>2186</td>\n",
              "      <td>23</td>\n",
              "      <td>0</td>\n",
              "      <td>10</td>\n",
              "      <td>2021</td>\n",
              "    </tr>\n",
              "    <tr>\n",
              "      <th>3757</th>\n",
              "      <td>24/10/2021</td>\n",
              "      <td>30/10/2021</td>\n",
              "      <td>NaN</td>\n",
              "      <td>Not Binary</td>\n",
              "      <td>1147</td>\n",
              "      <td>0</td>\n",
              "      <td>0</td>\n",
              "      <td>10</td>\n",
              "      <td>2021</td>\n",
              "    </tr>\n",
              "    <tr>\n",
              "      <th>3758</th>\n",
              "      <td>24/10/2021</td>\n",
              "      <td>30/10/2021</td>\n",
              "      <td>NaN</td>\n",
              "      <td>Women</td>\n",
              "      <td>2595</td>\n",
              "      <td>15</td>\n",
              "      <td>0</td>\n",
              "      <td>10</td>\n",
              "      <td>2021</td>\n",
              "    </tr>\n",
              "  </tbody>\n",
              "</table>\n",
              "<p>3759 rows × 9 columns</p>\n",
              "</div>"
            ],
            "text/plain": [
              "     first_week_day last_week_day age_group  ... weekly_deceased  month  year\n",
              "0        15/03/2020    21/03/2020      0-19  ...               0     03  2020\n",
              "1        15/03/2020    21/03/2020      0-19  ...               0     03  2020\n",
              "2        15/03/2020    21/03/2020      0-19  ...               0     03  2020\n",
              "3        15/03/2020    21/03/2020     20-24  ...               0     03  2020\n",
              "4        15/03/2020    21/03/2020     20-24  ...               0     03  2020\n",
              "...             ...           ...       ...  ...             ...    ...   ...\n",
              "3754     24/10/2021    30/10/2021       80+  ...               0     10  2021\n",
              "3755     24/10/2021    30/10/2021       80+  ...               0     10  2021\n",
              "3756     24/10/2021    30/10/2021       NaN  ...               0     10  2021\n",
              "3757     24/10/2021    30/10/2021       NaN  ...               0     10  2021\n",
              "3758     24/10/2021    30/10/2021       NaN  ...               0     10  2021\n",
              "\n",
              "[3759 rows x 9 columns]"
            ]
          },
          "metadata": {},
          "execution_count": 66
        }
      ]
    },
    {
      "cell_type": "markdown",
      "metadata": {
        "id": "312rl5aWW4yo"
      },
      "source": [
        "###Iremos ver quantos casos de covid possuimos no ano de 2020 e 2021"
      ]
    },
    {
      "cell_type": "code",
      "metadata": {
        "colab": {
          "base_uri": "https://localhost:8080/",
          "height": 142
        },
        "id": "8Km76S-8VmqQ",
        "outputId": "44f6f9f7-f41d-4fec-d1a6-8339e0e37800"
      },
      "source": [
        "df_corona[['year', 'gender', 'age_group', 'weekly_cases']].groupby(by='year').sum()"
      ],
      "execution_count": 83,
      "outputs": [
        {
          "output_type": "execute_result",
          "data": {
            "text/html": [
              "<div>\n",
              "<style scoped>\n",
              "    .dataframe tbody tr th:only-of-type {\n",
              "        vertical-align: middle;\n",
              "    }\n",
              "\n",
              "    .dataframe tbody tr th {\n",
              "        vertical-align: top;\n",
              "    }\n",
              "\n",
              "    .dataframe thead th {\n",
              "        text-align: right;\n",
              "    }\n",
              "</style>\n",
              "<table border=\"1\" class=\"dataframe\">\n",
              "  <thead>\n",
              "    <tr style=\"text-align: right;\">\n",
              "      <th></th>\n",
              "      <th>weekly_cases</th>\n",
              "    </tr>\n",
              "    <tr>\n",
              "      <th>year</th>\n",
              "      <th></th>\n",
              "    </tr>\n",
              "  </thead>\n",
              "  <tbody>\n",
              "    <tr>\n",
              "      <th>2020</th>\n",
              "      <td>435125</td>\n",
              "    </tr>\n",
              "    <tr>\n",
              "      <th>2021</th>\n",
              "      <td>890337</td>\n",
              "    </tr>\n",
              "  </tbody>\n",
              "</table>\n",
              "</div>"
            ],
            "text/plain": [
              "      weekly_cases\n",
              "year              \n",
              "2020        435125\n",
              "2021        890337"
            ]
          },
          "metadata": {},
          "execution_count": 83
        }
      ]
    },
    {
      "cell_type": "markdown",
      "metadata": {
        "id": "bSotYZ7BYQ1I"
      },
      "source": [
        "###Agora criaremos dois dataframes um com o historico dos casos de 2020 e outro com o de 2021"
      ]
    },
    {
      "cell_type": "code",
      "metadata": {
        "id": "QLsSsW6VVV6i"
      },
      "source": [
        "casos_covid_2020 = df_corona[df_corona['year'] == '2020']\n",
        "casos_covid_2021 = df_corona[df_corona['year'] == '2021']"
      ],
      "execution_count": 76,
      "outputs": []
    },
    {
      "cell_type": "markdown",
      "metadata": {
        "id": "QbFIGgNqYTM7"
      },
      "source": [
        "### Analisando os casos de covid do ano de 2020 por mês"
      ]
    },
    {
      "cell_type": "code",
      "metadata": {
        "colab": {
          "base_uri": "https://localhost:8080/",
          "height": 390
        },
        "id": "8_n21XfpVjox",
        "outputId": "dfcc058f-8f8c-4de9-ba36-d23440b3b90e"
      },
      "source": [
        "casos_covid_2020[['month', 'gender', 'age_group', 'weekly_cases']].groupby(by='month').sum()"
      ],
      "execution_count": 74,
      "outputs": [
        {
          "output_type": "execute_result",
          "data": {
            "text/html": [
              "<div>\n",
              "<style scoped>\n",
              "    .dataframe tbody tr th:only-of-type {\n",
              "        vertical-align: middle;\n",
              "    }\n",
              "\n",
              "    .dataframe tbody tr th {\n",
              "        vertical-align: top;\n",
              "    }\n",
              "\n",
              "    .dataframe thead th {\n",
              "        text-align: right;\n",
              "    }\n",
              "</style>\n",
              "<table border=\"1\" class=\"dataframe\">\n",
              "  <thead>\n",
              "    <tr style=\"text-align: right;\">\n",
              "      <th></th>\n",
              "      <th>weekly_cases</th>\n",
              "    </tr>\n",
              "    <tr>\n",
              "      <th>month</th>\n",
              "      <th></th>\n",
              "    </tr>\n",
              "  </thead>\n",
              "  <tbody>\n",
              "    <tr>\n",
              "      <th>03</th>\n",
              "      <td>7924</td>\n",
              "    </tr>\n",
              "    <tr>\n",
              "      <th>04</th>\n",
              "      <td>7750</td>\n",
              "    </tr>\n",
              "    <tr>\n",
              "      <th>05</th>\n",
              "      <td>1016</td>\n",
              "    </tr>\n",
              "    <tr>\n",
              "      <th>06</th>\n",
              "      <td>11487</td>\n",
              "    </tr>\n",
              "    <tr>\n",
              "      <th>07</th>\n",
              "      <td>43024</td>\n",
              "    </tr>\n",
              "    <tr>\n",
              "      <th>08</th>\n",
              "      <td>56803</td>\n",
              "    </tr>\n",
              "    <tr>\n",
              "      <th>09</th>\n",
              "      <td>135800</td>\n",
              "    </tr>\n",
              "    <tr>\n",
              "      <th>10</th>\n",
              "      <td>49554</td>\n",
              "    </tr>\n",
              "    <tr>\n",
              "      <th>11</th>\n",
              "      <td>29601</td>\n",
              "    </tr>\n",
              "    <tr>\n",
              "      <th>12</th>\n",
              "      <td>92166</td>\n",
              "    </tr>\n",
              "  </tbody>\n",
              "</table>\n",
              "</div>"
            ],
            "text/plain": [
              "       weekly_cases\n",
              "month              \n",
              "03             7924\n",
              "04             7750\n",
              "05             1016\n",
              "06            11487\n",
              "07            43024\n",
              "08            56803\n",
              "09           135800\n",
              "10            49554\n",
              "11            29601\n",
              "12            92166"
            ]
          },
          "metadata": {},
          "execution_count": 74
        }
      ]
    },
    {
      "cell_type": "markdown",
      "metadata": {
        "id": "u7QkET-JYZm_"
      },
      "source": [
        "### Mostrando graficament"
      ]
    },
    {
      "cell_type": "code",
      "metadata": {
        "colab": {
          "base_uri": "https://localhost:8080/",
          "height": 386
        },
        "id": "j9kbevTzTQb7",
        "outputId": "01139d5f-9bee-4d36-e6eb-609ed03ae422"
      },
      "source": [
        "sns.relplot(x='month', y='weekly_cases',kind = 'line', data=casos_covid_2020)"
      ],
      "execution_count": 75,
      "outputs": [
        {
          "output_type": "execute_result",
          "data": {
            "text/plain": [
              "<seaborn.axisgrid.FacetGrid at 0x7f8bb049b910>"
            ]
          },
          "metadata": {},
          "execution_count": 75
        },
        {
          "output_type": "display_data",
          "data": {
            "image/png": "[encoded data removed]",
            "text/plain": [
              "<Figure size 360x360 with 1 Axes>"
            ]
          },
          "metadata": {
            "needs_background": "light"
          }
        }
      ]
    },
    {
      "cell_type": "markdown",
      "metadata": {
        "id": "anMoeIfOYhzx"
      },
      "source": [
        "### Casos covid 2021 mostrado mensalmente"
      ]
    },
    {
      "cell_type": "code",
      "metadata": {
        "colab": {
          "base_uri": "https://localhost:8080/",
          "height": 390
        },
        "id": "zva9eFDDWB84",
        "outputId": "56002f90-9fba-4ab1-d713-abe847b123bf"
      },
      "source": [
        "casos_covid_2021[['month', 'gender', 'age_group', 'weekly_cases']].groupby(by='month').sum()"
      ],
      "execution_count": 77,
      "outputs": [
        {
          "output_type": "execute_result",
          "data": {
            "text/html": [
              "<div>\n",
              "<style scoped>\n",
              "    .dataframe tbody tr th:only-of-type {\n",
              "        vertical-align: middle;\n",
              "    }\n",
              "\n",
              "    .dataframe tbody tr th {\n",
              "        vertical-align: top;\n",
              "    }\n",
              "\n",
              "    .dataframe thead th {\n",
              "        text-align: right;\n",
              "    }\n",
              "</style>\n",
              "<table border=\"1\" class=\"dataframe\">\n",
              "  <thead>\n",
              "    <tr style=\"text-align: right;\">\n",
              "      <th></th>\n",
              "      <th>weekly_cases</th>\n",
              "    </tr>\n",
              "    <tr>\n",
              "      <th>month</th>\n",
              "      <th></th>\n",
              "    </tr>\n",
              "  </thead>\n",
              "  <tbody>\n",
              "    <tr>\n",
              "      <th>01</th>\n",
              "      <td>251473</td>\n",
              "    </tr>\n",
              "    <tr>\n",
              "      <th>02</th>\n",
              "      <td>113710</td>\n",
              "    </tr>\n",
              "    <tr>\n",
              "      <th>03</th>\n",
              "      <td>33816</td>\n",
              "    </tr>\n",
              "    <tr>\n",
              "      <th>04</th>\n",
              "      <td>3600</td>\n",
              "    </tr>\n",
              "    <tr>\n",
              "      <th>05</th>\n",
              "      <td>456</td>\n",
              "    </tr>\n",
              "    <tr>\n",
              "      <th>06</th>\n",
              "      <td>2825</td>\n",
              "    </tr>\n",
              "    <tr>\n",
              "      <th>07</th>\n",
              "      <td>31580</td>\n",
              "    </tr>\n",
              "    <tr>\n",
              "      <th>08</th>\n",
              "      <td>239467</td>\n",
              "    </tr>\n",
              "    <tr>\n",
              "      <th>09</th>\n",
              "      <td>174595</td>\n",
              "    </tr>\n",
              "    <tr>\n",
              "      <th>10</th>\n",
              "      <td>38815</td>\n",
              "    </tr>\n",
              "  </tbody>\n",
              "</table>\n",
              "</div>"
            ],
            "text/plain": [
              "       weekly_cases\n",
              "month              \n",
              "01           251473\n",
              "02           113710\n",
              "03            33816\n",
              "04             3600\n",
              "05              456\n",
              "06             2825\n",
              "07            31580\n",
              "08           239467\n",
              "09           174595\n",
              "10            38815"
            ]
          },
          "metadata": {},
          "execution_count": 77
        }
      ]
    },
    {
      "cell_type": "markdown",
      "metadata": {
        "id": "N1SpdJfRYnds"
      },
      "source": [
        "### Em forma de gráfico"
      ]
    },
    {
      "cell_type": "code",
      "metadata": {
        "colab": {
          "base_uri": "https://localhost:8080/",
          "height": 386
        },
        "id": "ZpPLgRLmWPbD",
        "outputId": "dbfcf249-d035-4eea-fe37-5a714d9601bd"
      },
      "source": [
        "sns.relplot(x='month', y='weekly_cases',kind = 'line', data=casos_covid_2021)"
      ],
      "execution_count": 78,
      "outputs": [
        {
          "output_type": "execute_result",
          "data": {
            "text/plain": [
              "<seaborn.axisgrid.FacetGrid at 0x7f8bb0503bd0>"
            ]
          },
          "metadata": {},
          "execution_count": 78
        },
        {
          "output_type": "display_data",
          "data": {
            "image/png": "[encoded data removed]",
            "text/plain": [
              "<Figure size 360x360 with 1 Axes>"
            ]
          },
          "metadata": {
            "needs_background": "light"
          }
        }
      ]
    }
  ]
}